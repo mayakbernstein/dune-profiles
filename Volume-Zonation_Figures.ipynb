{
 "cells": [
  {
   "cell_type": "markdown",
   "id": "a9379419-fcf1-46a9-b5e7-e7376fafce3d",
   "metadata": {},
   "source": [
    "# **Plant Zonation Figures**\n",
    "\n",
    "This notebook contains the code for figures plotting vegetation species occurrence along the plotted profile of the dune.\n",
    "\n",
    "This code is at the transect level. Each transect for each site is plotted separately.\n",
    "\n",
    "This code is also for plotting the figures for all transects within all excel sheets. It automatically saves the figure files as .png with transparent backgrounds to a folder called zonation_figures"
   ]
  },
  {
   "cell_type": "markdown",
   "id": "72d7e773-e104-42a2-ba52-2e1006228145",
   "metadata": {},
   "source": [
    "### **Importing Libraries**"
   ]
  },
  {
   "cell_type": "code",
   "execution_count": 1,
   "id": "8ce99604-fb59-4e25-8d6a-0eae0d49fc36",
   "metadata": {},
   "outputs": [],
   "source": [
    "import pandas as pd #for data manipulation and analysis\n",
    "import numpy as np #numerical operations\n",
    "import matplotlib.pyplot as plt #plotting\n",
    "from scipy.interpolate import CubicSpline #create cubic spline operations\n",
    "import os #provides functions to interact with operating system"
   ]
  },
  {
   "cell_type": "markdown",
   "id": "1972dc86-8fe6-48a7-9740-8a27488ff487",
   "metadata": {},
   "source": [
    "### **Load and clean Excel files**"
   ]
  },
  {
   "cell_type": "code",
   "execution_count": 2,
   "id": "ada1179f-3bce-4a4c-87c2-aba6a2d26f3d",
   "metadata": {},
   "outputs": [],
   "source": [
    "def load_and_clean_data(file_path, sheet_name):\n",
    "    files = pd.read_excel(file_path, sheet_name=sheet_name)\n",
    "    \n",
    "    # Extract valid elevation data\n",
    "    elevation_data = files.dropna(subset=[\"tran_dist\", \"tran_ht\"])\n",
    "    elevation_data = elevation_data.sort_values(\"tran_dist\").drop_duplicates(subset=\"tran_dist\", keep=\"first\")\n",
    "    \n",
    "    # Ensure 'tran_dist' is strictly increasing\n",
    "    diffs = np.diff(elevation_data[\"tran_dist\"])\n",
    "    if np.any(diffs <= 0):\n",
    "        print(f\"Non-increasing 'tran_dist' found in {sheet_name}. Skipping this transect.\")\n",
    "        return None\n",
    "\n",
    "    return elevation_data"
   ]
  },
  {
   "cell_type": "markdown",
   "id": "ca3a9c9d-50c2-44a8-91ea-526ad6722e58",
   "metadata": {},
   "source": [
    "### **Get foredune toe values**\n",
    "\n",
    "Retrieve the foredune toe values with error handling"
   ]
  },
  {
   "cell_type": "code",
   "execution_count": 3,
   "id": "52c28435-33db-40d6-9776-2c2e1e9cb12c",
   "metadata": {},
   "outputs": [],
   "source": [
    "def get_toe_values(files):\n",
    "    toe_in_series = files['fore_toe_in'].dropna()\n",
    "    toe_sea_series = files['fore_toe_sea'].dropna()\n",
    "\n",
    "    if toe_in_series.empty or toe_sea_series.empty:\n",
    "        return None, None\n",
    "    \n",
    "    return toe_in_series.iloc[0], toe_sea_series.iloc[0]"
   ]
  },
  {
   "cell_type": "markdown",
   "id": "3648a0b7-e486-4641-a9a6-20139769ea07",
   "metadata": {},
   "source": [
    "### **Cubic Interpolation**\n",
    "\n",
    "this function does the cubic interpolation on the transect data"
   ]
  },
  {
   "cell_type": "code",
   "execution_count": 4,
   "id": "7cfcf73d-615d-4644-8f03-3e2fab8fd780",
   "metadata": {},
   "outputs": [],
   "source": [
    "def perform_interpolation(tran_dist, tran_ht, toe_in, toe_sea):\n",
    "    # Inverse the y-values for interpolation\n",
    "    inverse_height = -tran_ht\n",
    "    cubicx = np.linspace(tran_dist.min(), tran_dist.max(), num=1001)\n",
    "    spl = CubicSpline(tran_dist, inverse_height)\n",
    "    cubicy = spl(cubicx)\n",
    "\n",
    "    # Calculate relative cubic heights\n",
    "    ht_at_toe_sea = spl(toe_sea)\n",
    "    ht_at_toe_in = spl(toe_in)\n",
    "    relative_cubicy = cubicy - min(ht_at_toe_sea, ht_at_toe_in)\n",
    "\n",
    "    return cubicx, relative_cubicy, spl"
   ]
  },
  {
   "cell_type": "markdown",
   "id": "7f415c1e-3dec-4121-80b6-8db10abfe938",
   "metadata": {},
   "source": [
    "### **Calculate Zonation Heights**\n",
    "\n",
    "calculate the start and end heights for the zonation segments"
   ]
  },
  {
   "cell_type": "code",
   "execution_count": 5,
   "id": "072997b5-e136-4533-ad80-d00139bddd15",
   "metadata": {},
   "outputs": [],
   "source": [
    "def calculate_zonation_heights(files, spl, min_height):\n",
    "    files['start_height'] = spl(files['start'].fillna(0))\n",
    "    files['end_height'] = spl(files['end'].fillna(0))\n",
    "    \n",
    "    files['relative_start_height'] = files['start_height'] - min_height\n",
    "    files['relative_end_height'] = files['end_height'] - min_height"
   ]
  },
  {
   "cell_type": "markdown",
   "id": "2be0aa71-bd4c-4b09-89c0-e339dc3ed031",
   "metadata": {},
   "source": [
    "### **Plotting Function**\n",
    "\n",
    "Plotting function for the elevation profile (cubic interpolation) and species zonation\n"
   ]
  },
  {
   "cell_type": "code",
   "execution_count": 6,
   "id": "e2233b52-ca6d-4bf2-8e6a-43fe1fc67726",
   "metadata": {},
   "outputs": [],
   "source": [
    "def plot_transect(cubicx, relative_cubicy, files, spl, min_height, color_map, sheet_name, filename, figures_folder):\n",
    "    \"\"\"\n",
    "    Plot the transect with cubic interpolation and plant zonation, and save the figure.\n",
    "    \"\"\"\n",
    "    import matplotlib.pyplot as plt\n",
    "\n",
    "    # Create the plot\n",
    "    plt.figure(figsize=(20, 1))  # Adjusted figure size for better view\n",
    "    plt.plot(cubicx, relative_cubicy, label=\"Cubic Spline Interpolation\", color='#16395eff', linewidth=3)\n",
    "\n",
    "    # Plot the plant zonation segments as curves\n",
    "    for _, row in files.iterrows():\n",
    "        if pd.notna(row['start']) and pd.notna(row['end']):\n",
    "            # Only plot if the 'type' has exactly 4 letters\n",
    "            if isinstance(row['type'], str) and len(row['type']) == 4:\n",
    "                # Create an array of x values between start and end\n",
    "                x_vals = np.linspace(row['start'], row['end'], num=100)\n",
    "                # Use the cubic spline to calculate the corresponding y values\n",
    "                y_vals = spl(x_vals) - min_height\n",
    "                # Plot the curve\n",
    "                plt.plot(x_vals, y_vals, \n",
    "                         color=color_map.get(row['type'], 'black'),  # Default color if type not in color_map\n",
    "                         linewidth=10, label=row['type'] if row['type'] not in plt.gca().get_legend_handles_labels()[1] else \"\")\n",
    "\n",
    "    # Fill the area under the curve relative to 0 (adjusted y-axis)\n",
    "    plt.fill_between(cubicx, relative_cubicy, 0, where=(relative_cubicy > 0), color='#ffdeabff', alpha=1, label=\"Area Above Lower Toe Line\")\n",
    "\n",
    "    # Plot reference lines at 0 and the height difference\n",
    "    plt.axhline(y=0, color='#16395eff', linestyle='--', label='Lower Toe Line = 0', linewidth=1)\n",
    "\n",
    "    # Set labels and title\n",
    "    plt.xlabel(\"Distance along Transect\")\n",
    "    plt.ylabel(\"Relative Height\")\n",
    "    plt.title(\" \")\n",
    "    plt.legend(title='Species Type')\n",
    "\n",
    "    #customize plot background and spines\n",
    "   \n",
    "    plt.gca().patch.set_alpha(0)  # Transparent background\n",
    "    ax = plt.gca()\n",
    "    ax.spines['top'].set_visible(False)\n",
    "    ax.spines['right'].set_visible(False)\n",
    "    ax.set_position([0.1, 0.1, 0.8, 1.5])\n",
    "\n",
    "    # Define the save path for the figure within the zonation_figures folder\n",
    "    save_path = os.path.join(figures_folder, f'{sheet_name}_{filename[:-5]}.png')\n",
    "\n",
    "    # Save the plot with a transparent background\n",
    "    plt.savefig(save_path, bbox_inches='tight', pad_inches=0.5, transparent=True)\n",
    "\n",
    "    # Show the plot\n",
    "    plt.show()"
   ]
  },
  {
   "cell_type": "markdown",
   "id": "8aef9d55-a4ab-47a1-8d93-e8af50494b7e",
   "metadata": {},
   "source": [
    "### **Process Files**\n",
    "\n",
    "process each file in the directory and plot transects"
   ]
  },
  {
   "cell_type": "code",
   "execution_count": 7,
   "id": "a0019ffa-47b8-4ca3-a2cb-a8edc56c72a7",
   "metadata": {},
   "outputs": [],
   "source": [
    "def process_files(directory):\n",
    "    # Define a color map based on the 'type' column\n",
    "    color_map = {'CAMA': '#88a6b4ff',\n",
    "                 'CACH': '#ecc604ff', \n",
    "                 'AMCH': '#a49a2fff', \n",
    "                 'ABUM': '#e60049', \n",
    "                 'ABMA': '#ce5193ff', \n",
    "                 'ATLE': '#df951aff', \n",
    "                 'DISP': '#b33dc6'}\n",
    "\n",
    "    # Define the folder where figures will be saved\n",
    "    figures_folder = \"zonation_figures\"\n",
    "\n",
    "    # Check if the figures folder exists, and create it if not\n",
    "    if not os.path.exists(figures_folder):\n",
    "        os.makedirs(figures_folder)\n",
    "\n",
    "    # Iterate through each file in the directory\n",
    "    for filename in os.listdir(directory):\n",
    "        if filename.endswith('.xlsx'):\n",
    "            file_path = os.path.join(directory, filename)\n",
    "            xls = pd.ExcelFile(file_path)\n",
    "\n",
    "            # Iterate through each transect sheet\n",
    "            for sheet_name in xls.sheet_names:\n",
    "                if sheet_name.startswith(\"Transect\"):\n",
    "                    # Load and clean data\n",
    "                    files = load_and_clean_data(file_path, sheet_name)\n",
    "                    if files is None:\n",
    "                        continue\n",
    "\n",
    "                    # Extract transect data\n",
    "                    tran_dist = files[\"tran_dist\"]\n",
    "                    tran_ht = files[\"tran_ht\"]\n",
    "\n",
    "                    # Get toe values\n",
    "                    toe_in, toe_sea = get_toe_values(files)\n",
    "                    if toe_in is None or toe_sea is None:\n",
    "                        continue\n",
    "                    \n",
    "                    # Perform cubic interpolation\n",
    "                    cubicx, relative_cubicy, spl = perform_interpolation(tran_dist, tran_ht, toe_in, toe_sea)\n",
    "\n",
    "                    # Calculate zonation heights\n",
    "                    min_height = min(spl(toe_sea), spl(toe_in))\n",
    "                    calculate_zonation_heights(files, spl, min_height)\n",
    "\n",
    "                    # Plot the transect and save the figure\n",
    "                    plot_transect(cubicx, relative_cubicy, files, spl, min_height, color_map, sheet_name, filename, figures_folder)\n"
   ]
  },
  {
   "cell_type": "markdown",
   "id": "1387b61a-8129-419c-a8e8-77030157be9e",
   "metadata": {},
   "source": [
    "### **Execute**"
   ]
  },
  {
   "cell_type": "code",
   "execution_count": 8,
   "id": "e3c13174-070c-4131-8e32-b1205f5fd2ef",
   "metadata": {},
   "outputs": [
    {
     "ename": "FileNotFoundError",
     "evalue": "[Errno 2] No such file or directory: 'GoogleSheets'",
     "output_type": "error",
     "traceback": [
      "\u001b[0;31m---------------------------------------------------------------------------\u001b[0m",
      "\u001b[0;31mFileNotFoundError\u001b[0m                         Traceback (most recent call last)",
      "Cell \u001b[0;32mIn[8], line 4\u001b[0m\n\u001b[1;32m      2\u001b[0m \u001b[38;5;28;01mif\u001b[39;00m \u001b[38;5;18m__name__\u001b[39m \u001b[38;5;241m==\u001b[39m \u001b[38;5;124m\"\u001b[39m\u001b[38;5;124m__main__\u001b[39m\u001b[38;5;124m\"\u001b[39m:\n\u001b[1;32m      3\u001b[0m     directory \u001b[38;5;241m=\u001b[39m \u001b[38;5;124m\"\u001b[39m\u001b[38;5;124mGoogleSheets\u001b[39m\u001b[38;5;124m\"\u001b[39m\n\u001b[0;32m----> 4\u001b[0m     \u001b[43mprocess_files\u001b[49m\u001b[43m(\u001b[49m\u001b[43mdirectory\u001b[49m\u001b[43m)\u001b[49m\n",
      "Cell \u001b[0;32mIn[7], line 19\u001b[0m, in \u001b[0;36mprocess_files\u001b[0;34m(directory)\u001b[0m\n\u001b[1;32m     16\u001b[0m     os\u001b[38;5;241m.\u001b[39mmakedirs(figures_folder)\n\u001b[1;32m     18\u001b[0m \u001b[38;5;66;03m# Iterate through each file in the directory\u001b[39;00m\n\u001b[0;32m---> 19\u001b[0m \u001b[38;5;28;01mfor\u001b[39;00m filename \u001b[38;5;129;01min\u001b[39;00m \u001b[43mos\u001b[49m\u001b[38;5;241;43m.\u001b[39;49m\u001b[43mlistdir\u001b[49m\u001b[43m(\u001b[49m\u001b[43mdirectory\u001b[49m\u001b[43m)\u001b[49m:\n\u001b[1;32m     20\u001b[0m     \u001b[38;5;28;01mif\u001b[39;00m filename\u001b[38;5;241m.\u001b[39mendswith(\u001b[38;5;124m'\u001b[39m\u001b[38;5;124m.xlsx\u001b[39m\u001b[38;5;124m'\u001b[39m):\n\u001b[1;32m     21\u001b[0m         file_path \u001b[38;5;241m=\u001b[39m os\u001b[38;5;241m.\u001b[39mpath\u001b[38;5;241m.\u001b[39mjoin(directory, filename)\n",
      "\u001b[0;31mFileNotFoundError\u001b[0m: [Errno 2] No such file or directory: 'GoogleSheets'"
     ]
    }
   ],
   "source": [
    "# Execute the main function\n",
    "if __name__ == \"__main__\":\n",
    "    directory = \"GoogleSheets\"\n",
    "    process_files(directory)"
   ]
  },
  {
   "cell_type": "code",
   "execution_count": null,
   "id": "23d0314f-f50a-4e04-a9aa-522e03b06674",
   "metadata": {},
   "outputs": [],
   "source": []
  }
 ],
 "metadata": {
  "kernelspec": {
   "display_name": "Python 3 (ipykernel)",
   "language": "python",
   "name": "python3"
  },
  "language_info": {
   "codemirror_mode": {
    "name": "ipython",
    "version": 3
   },
   "file_extension": ".py",
   "mimetype": "text/x-python",
   "name": "python",
   "nbconvert_exporter": "python",
   "pygments_lexer": "ipython3",
   "version": "3.12.3"
  }
 },
 "nbformat": 4,
 "nbformat_minor": 5
}
